{
 "cells": [
  {
   "cell_type": "markdown",
   "metadata": {
    "cell_id": "00000-54a315fb-0345-4ce3-8659-04741cb3a7be",
    "deepnote_cell_type": "markdown",
    "tags": []
   },
   "source": [
    "Makeup Assignment\n",
    "\n",
    "This assignment should be done individually. Questions will be taken after 10 minutes of quiet \n",
    "\n",
    "In this assignment, you will be obtaining Makeup product information from a web API that can be found here: http://makeup-api.herokuapp.com/ \n",
    "\n",
    "All the information that you need to complete the assignment will be found on the APIs documentation.\n",
    "\n",
    "Please run each task in its own cell. If a task asks you to answer a question, you can answer it in markdown in the same cell as the task. Once you are done, run the entire notebook (so it shows the output) and upload it to any of you personal repos (you can create a new one) and add me as a colaborator. I should be able to see your output on Github.\n"
   ]
  },
  {
   "cell_type": "code",
   "execution_count": null,
   "metadata": {
    "cell_id": "00000-5347acfa-b791-4fe4-b66a-a8a2dae05b4e",
    "deepnote_cell_type": "code",
    "tags": []
   },
   "outputs": [],
   "source": [
    "#imports here\n",
    "\n",
    "# create a get request for all products that are Maybelline brand and under $5. Filter with query params\n",
    "\n",
    "# check the status of the above's request\n",
    "\n",
    "# output the content of the request \n",
    "\n",
    "# convert the content to json format\n",
    "\n",
    "#output the json file\n",
    "\n",
    "\n",
    "#convert json file to pandas dataframe\n",
    "\n",
    "#print head of dataframe\n",
    "\n",
    "#create a get request for all products that are taged Hypoallergenic, and No Talc. Filter with query params\n",
    "\n",
    "# show the products that come up in the above request\n",
    "\n",
    "# create a request for all Eyeshadows that are Palettes and Organic. Use the params argument in your get() function\n",
    "\n",
    "# what brand are the above eyeshadows? \n",
    "\n",
    "# create a request for all lipsticks that are chemical free. Use the params argument in the get() function\n",
    "\n",
    "#output the json file for above\n",
    "\n",
    "# using the json only to read the results, how many products came up in this request?\n",
    "\n",
    "# create a request for all products that have less than 4 stars for their rating. Use the params argument in the get() function\n",
    "\n",
    "# what is the most common brand from above?\n",
    "\n",
    "#create a get requst for all Revlon cream foundations. Use the params argument in the get() function\n",
    "\n",
    "# what is the average price for above?\n",
    "\n",
    "# make a get request with an unknown endpoint. what status code do you get?\n"
   ]
  },
  {
   "cell_type": "code",
   "execution_count": 1,
   "metadata": {},
   "outputs": [],
   "source": [
    "#imports here\n",
    "import requests\n",
    "from pandas import json_normalize"
   ]
  },
  {
   "cell_type": "markdown",
   "metadata": {
    "created_in_deepnote_cell": true,
    "deepnote_cell_type": "markdown",
    "tags": []
   },
   "source": [
    "<a style='text-decoration:none;line-height:16px;display:flex;color:#5B5B62;padding:10px;justify-content:end;' href='https://deepnote.com?utm_source=created-in-deepnote-cell&projectId=f2765d68-571f-4c3d-9fb2-60669ed10a17' target=\"_blank\">\n",
    "<img style='display:inline;max-height:16px;margin:0px;margin-right:7.5px;' src='data:image/svg+xml;base64,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' > </img>\n",
    "Created in <span style='font-weight:600;margin-left:4px;'>Deepnote</span></a>"
   ]
  },
  {
   "cell_type": "code",
   "execution_count": 18,
   "metadata": {},
   "outputs": [],
   "source": [
    "# create a get request for all products that are Maybelline brand and under $5. Filter with query params\n",
    "response =requests.get(\"http://makeup-api.herokuapp.com/api/v1/products.json?brand=maybelline&price_less_than=5\")"
   ]
  },
  {
   "cell_type": "code",
   "execution_count": 19,
   "metadata": {},
   "outputs": [
    {
     "data": {
      "text/plain": [
       "200"
      ]
     },
     "execution_count": 19,
     "metadata": {},
     "output_type": "execute_result"
    }
   ],
   "source": [
    "# check the status of the above's request\n",
    "response.status_code"
   ]
  },
  {
   "cell_type": "code",
   "execution_count": 20,
   "metadata": {},
   "outputs": [
    {
     "data": {
      "text/plain": [
       "b'[{\"id\":146,\"brand\":\"maybelline\",\"name\":\"Maybelline Color Show Nail Lacquer Jewels \",\"price\":\"4.49\",\"price_sign\":null,\"currency\":null,\"image_link\":\"https://d3t32hsnjxo7q6.cloudfront.net/i/f6239cbcd84fa838c461f020b86924aa_ra,w158,h184_pa,w158,h184.png\",\"product_link\":\"https://well.ca/products/maybelline-color-show-nail-lacquer_96730.html\",\"website_link\":\"https://well.ca\",\"description\":\"Maybelline Color Show Nail Lacquer Jewels collection features jeweled nail lacquer top coats straight from the shows!Features:Adorns your nails with textured gem effectsTrendy top coat nail art designsEasy-flow brushFormaldehyde, DBP and Toluene freeShade Range: (left to right: Mosaic Prism, Platinum Adorn)For Best Results:First apply a clear base coat to prevent your nails from yellowing and to help your nail color last longer. Choose a base shade and with one sweep, paint the first line of nail polish up the center of your nail starting from the base to the tip.For the cleanest look, be sure to leave a small space at the base of the nail. Then apply nail color to the rest of the nail. Pick your textured top coat and paint over your base shade for a street styled nail art look.\",\"rating\":3.0,\"category\":null,\"product_type\":\"nail_polish\",\"tag_list\":[],\"created_at\":\"2016-10-01T18:26:51.778Z\",\"updated_at\":\"2017-12-23T20:51:08.631Z\",\"product_api_url\":\"http://makeup-api.herokuapp.com/api/v1/products/146.json\",\"api_featured_image\":\"//s3.amazonaws.com/donovanbailey/products/api_featured_images/000/000/146/original/open-uri20171223-4-fnr4hp?1514062268\",\"product_colors\":[]},{\"id\":145,\"brand\":\"maybelline\",\"name\":\"Maybelline Color Show Nail Lacquer Veils \",\"price\":\"4.49\",\"price_sign\":null,\"currency\":null,\"image_link\":\"https://d3t32hsnjxo7q6.cloudfront.net/i/64cbcfbd001435c3abc3d8f77c16a0bf_ra,w158,h184_pa,w158,h184.png\",\"product_link\":\"https://well.ca/products/maybelline-color-show-nail-lacquer_96731.html\",\"website_link\":\"https://well.ca\",\"description\":\"Maybelline Color Show Nail Lacquer Veils collection gives you subtle shimmers to refined glitters in colours straight from the shows!Features:Trendy top coat nail art designsEasy-flow brushFormaldehyde, DBP and Toluene freeShade Range: (left to right: Amethyst Aura, Rose Mirage, Crystal Disguise)For Best Results:First\\\\n apply a clear base coat to prevent your nails from yellowing and to \\\\nhelp your nail color last longer. Choose a base shade and with one \\\\nsweep, paint the first line of nail polish up the center of your nail \\\\nstarting from the base to the tip.For the cleanest look, be sure\\\\n to leave a small space at the base of the nail. Then apply nail color \\\\nto the rest of the nail. Pick your textured top coat and paint over your\\\\n base shade for a street styled nail art look.\",\"rating\":4.0,\"category\":null,\"product_type\":\"nail_polish\",\"tag_list\":[],\"created_at\":\"2016-10-01T18:26:50.448Z\",\"updated_at\":\"2017-12-23T20:51:08.413Z\",\"product_api_url\":\"http://makeup-api.herokuapp.com/api/v1/products/145.json\",\"api_featured_image\":\"//s3.amazonaws.com/donovanbailey/products/api_featured_images/000/000/145/original/open-uri20171223-4-1a63bxt?1514062268\",\"product_colors\":[{\"hex_value\":\"#394674\",\"colour_name\":\"Amethyst Aura \"}]},{\"id\":133,\"brand\":\"maybelline\",\"name\":\"Maybelline Color Show Nail Lacquer \",\"price\":\"4.49\",\"price_sign\":null,\"currency\":null,\"image_link\":\"https://d3t32hsnjxo7q6.cloudfront.net/i/a05aa31a7e30d9d262ae36d0be2c4f87_ra,w158,h184_pa,w158,h184.png\",\"product_link\":\"https://well.ca/products/maybelline-color-show-nail-lacquer_78068.html\",\"website_link\":\"https://well.ca\",\"description\":\"High fashion meets high-art. With Maybelline Color Show Nail Lacquer PolkaDots Collection you get 3D nail design for your fingertips!Features: \\\\nCreates Hollywood-worthy special effectsChip-resistant formula Easy-flow brushFormaldehyde, DBP and Toluene freeShade Range: \\\\n\",\"rating\":3.3,\"category\":null,\"product_type\":\"nail_polish\",\"tag_list\":[],\"created_at\":\"2016-10-01T18:26:31.673Z\",\"updated_at\":\"2017-12-23T20:51:05.961Z\",\"product_api_url\":\"http://makeup-api.herokuapp.com/api/v1/products/133.json\",\"api_featured_image\":\"//s3.amazonaws.com/donovanbailey/products/api_featured_images/000/000/133/original/open-uri20171223-4-zz1pau?1514062265\",\"product_colors\":[{\"hex_value\":\"#037679\",\"colour_name\":\"Drops of Jade  (55) \"}]}]'"
      ]
     },
     "execution_count": 20,
     "metadata": {},
     "output_type": "execute_result"
    }
   ],
   "source": [
    "# output the content of the request \n",
    "response.content"
   ]
  },
  {
   "cell_type": "code",
   "execution_count": 21,
   "metadata": {},
   "outputs": [],
   "source": [
    "# convert the content to json format\n",
    "json_object = response.json()\n",
    "j_file = response.json()"
   ]
  },
  {
   "cell_type": "code",
   "execution_count": 22,
   "metadata": {},
   "outputs": [
    {
     "data": {
      "text/plain": [
       "[{'id': 146,\n",
       "  'brand': 'maybelline',\n",
       "  'name': 'Maybelline Color Show Nail Lacquer Jewels ',\n",
       "  'price': '4.49',\n",
       "  'price_sign': None,\n",
       "  'currency': None,\n",
       "  'image_link': 'https://d3t32hsnjxo7q6.cloudfront.net/i/f6239cbcd84fa838c461f020b86924aa_ra,w158,h184_pa,w158,h184.png',\n",
       "  'product_link': 'https://well.ca/products/maybelline-color-show-nail-lacquer_96730.html',\n",
       "  'website_link': 'https://well.ca',\n",
       "  'description': 'Maybelline Color Show Nail Lacquer Jewels collection features jeweled nail lacquer top coats straight from the shows!Features:Adorns your nails with textured gem effectsTrendy top coat nail art designsEasy-flow brushFormaldehyde, DBP and Toluene freeShade Range: (left to right: Mosaic Prism, Platinum Adorn)For Best Results:First apply a clear base coat to prevent your nails from yellowing and to help your nail color last longer. Choose a base shade and with one sweep, paint the first line of nail polish up the center of your nail starting from the base to the tip.For the cleanest look, be sure to leave a small space at the base of the nail. Then apply nail color to the rest of the nail. Pick your textured top coat and paint over your base shade for a street styled nail art look.',\n",
       "  'rating': 3.0,\n",
       "  'category': None,\n",
       "  'product_type': 'nail_polish',\n",
       "  'tag_list': [],\n",
       "  'created_at': '2016-10-01T18:26:51.778Z',\n",
       "  'updated_at': '2017-12-23T20:51:08.631Z',\n",
       "  'product_api_url': 'http://makeup-api.herokuapp.com/api/v1/products/146.json',\n",
       "  'api_featured_image': '//s3.amazonaws.com/donovanbailey/products/api_featured_images/000/000/146/original/open-uri20171223-4-fnr4hp?1514062268',\n",
       "  'product_colors': []},\n",
       " {'id': 145,\n",
       "  'brand': 'maybelline',\n",
       "  'name': 'Maybelline Color Show Nail Lacquer Veils ',\n",
       "  'price': '4.49',\n",
       "  'price_sign': None,\n",
       "  'currency': None,\n",
       "  'image_link': 'https://d3t32hsnjxo7q6.cloudfront.net/i/64cbcfbd001435c3abc3d8f77c16a0bf_ra,w158,h184_pa,w158,h184.png',\n",
       "  'product_link': 'https://well.ca/products/maybelline-color-show-nail-lacquer_96731.html',\n",
       "  'website_link': 'https://well.ca',\n",
       "  'description': 'Maybelline Color Show Nail Lacquer Veils collection gives you subtle shimmers to refined glitters in colours straight from the shows!Features:Trendy top coat nail art designsEasy-flow brushFormaldehyde, DBP and Toluene freeShade Range: (left to right: Amethyst Aura, Rose Mirage, Crystal Disguise)For Best Results:First\\n apply a clear base coat to prevent your nails from yellowing and to \\nhelp your nail color last longer. Choose a base shade and with one \\nsweep, paint the first line of nail polish up the center of your nail \\nstarting from the base to the tip.For the cleanest look, be sure\\n to leave a small space at the base of the nail. Then apply nail color \\nto the rest of the nail. Pick your textured top coat and paint over your\\n base shade for a street styled nail art look.',\n",
       "  'rating': 4.0,\n",
       "  'category': None,\n",
       "  'product_type': 'nail_polish',\n",
       "  'tag_list': [],\n",
       "  'created_at': '2016-10-01T18:26:50.448Z',\n",
       "  'updated_at': '2017-12-23T20:51:08.413Z',\n",
       "  'product_api_url': 'http://makeup-api.herokuapp.com/api/v1/products/145.json',\n",
       "  'api_featured_image': '//s3.amazonaws.com/donovanbailey/products/api_featured_images/000/000/145/original/open-uri20171223-4-1a63bxt?1514062268',\n",
       "  'product_colors': [{'hex_value': '#394674',\n",
       "    'colour_name': 'Amethyst Aura '}]},\n",
       " {'id': 133,\n",
       "  'brand': 'maybelline',\n",
       "  'name': 'Maybelline Color Show Nail Lacquer ',\n",
       "  'price': '4.49',\n",
       "  'price_sign': None,\n",
       "  'currency': None,\n",
       "  'image_link': 'https://d3t32hsnjxo7q6.cloudfront.net/i/a05aa31a7e30d9d262ae36d0be2c4f87_ra,w158,h184_pa,w158,h184.png',\n",
       "  'product_link': 'https://well.ca/products/maybelline-color-show-nail-lacquer_78068.html',\n",
       "  'website_link': 'https://well.ca',\n",
       "  'description': 'High fashion meets high-art. With Maybelline Color Show Nail Lacquer PolkaDots Collection you get 3D nail design for your fingertips!Features: \\nCreates Hollywood-worthy special effectsChip-resistant formula Easy-flow brushFormaldehyde, DBP and Toluene freeShade Range: \\n',\n",
       "  'rating': 3.3,\n",
       "  'category': None,\n",
       "  'product_type': 'nail_polish',\n",
       "  'tag_list': [],\n",
       "  'created_at': '2016-10-01T18:26:31.673Z',\n",
       "  'updated_at': '2017-12-23T20:51:05.961Z',\n",
       "  'product_api_url': 'http://makeup-api.herokuapp.com/api/v1/products/133.json',\n",
       "  'api_featured_image': '//s3.amazonaws.com/donovanbailey/products/api_featured_images/000/000/133/original/open-uri20171223-4-zz1pau?1514062265',\n",
       "  'product_colors': [{'hex_value': '#037679',\n",
       "    'colour_name': 'Drops of Jade  (55) '}]}]"
      ]
     },
     "execution_count": 22,
     "metadata": {},
     "output_type": "execute_result"
    }
   ],
   "source": [
    "#output the json file\n",
    "df = json_normalize(j_file)\n",
    "j_file"
   ]
  },
  {
   "cell_type": "code",
   "execution_count": 25,
   "metadata": {},
   "outputs": [],
   "source": [
    "#convert json file to pandas dataframe\n",
    "m = j_file\n",
    "df = json_normalize(m)\n"
   ]
  },
  {
   "cell_type": "code",
   "execution_count": 26,
   "metadata": {},
   "outputs": [
    {
     "data": {
      "text/html": [
       "<div>\n",
       "<style scoped>\n",
       "    .dataframe tbody tr th:only-of-type {\n",
       "        vertical-align: middle;\n",
       "    }\n",
       "\n",
       "    .dataframe tbody tr th {\n",
       "        vertical-align: top;\n",
       "    }\n",
       "\n",
       "    .dataframe thead th {\n",
       "        text-align: right;\n",
       "    }\n",
       "</style>\n",
       "<table border=\"1\" class=\"dataframe\">\n",
       "  <thead>\n",
       "    <tr style=\"text-align: right;\">\n",
       "      <th></th>\n",
       "      <th>id</th>\n",
       "      <th>brand</th>\n",
       "      <th>name</th>\n",
       "      <th>price</th>\n",
       "      <th>price_sign</th>\n",
       "      <th>currency</th>\n",
       "      <th>image_link</th>\n",
       "      <th>product_link</th>\n",
       "      <th>website_link</th>\n",
       "      <th>description</th>\n",
       "      <th>rating</th>\n",
       "      <th>category</th>\n",
       "      <th>product_type</th>\n",
       "      <th>tag_list</th>\n",
       "      <th>created_at</th>\n",
       "      <th>updated_at</th>\n",
       "      <th>product_api_url</th>\n",
       "      <th>api_featured_image</th>\n",
       "      <th>product_colors</th>\n",
       "    </tr>\n",
       "  </thead>\n",
       "  <tbody>\n",
       "    <tr>\n",
       "      <th>0</th>\n",
       "      <td>146</td>\n",
       "      <td>maybelline</td>\n",
       "      <td>Maybelline Color Show Nail Lacquer Jewels</td>\n",
       "      <td>4.49</td>\n",
       "      <td>None</td>\n",
       "      <td>None</td>\n",
       "      <td>https://d3t32hsnjxo7q6.cloudfront.net/i/f6239c...</td>\n",
       "      <td>https://well.ca/products/maybelline-color-show...</td>\n",
       "      <td>https://well.ca</td>\n",
       "      <td>Maybelline Color Show Nail Lacquer Jewels coll...</td>\n",
       "      <td>3.0</td>\n",
       "      <td>None</td>\n",
       "      <td>nail_polish</td>\n",
       "      <td>[]</td>\n",
       "      <td>2016-10-01T18:26:51.778Z</td>\n",
       "      <td>2017-12-23T20:51:08.631Z</td>\n",
       "      <td>http://makeup-api.herokuapp.com/api/v1/product...</td>\n",
       "      <td>//s3.amazonaws.com/donovanbailey/products/api_...</td>\n",
       "      <td>[]</td>\n",
       "    </tr>\n",
       "    <tr>\n",
       "      <th>1</th>\n",
       "      <td>145</td>\n",
       "      <td>maybelline</td>\n",
       "      <td>Maybelline Color Show Nail Lacquer Veils</td>\n",
       "      <td>4.49</td>\n",
       "      <td>None</td>\n",
       "      <td>None</td>\n",
       "      <td>https://d3t32hsnjxo7q6.cloudfront.net/i/64cbcf...</td>\n",
       "      <td>https://well.ca/products/maybelline-color-show...</td>\n",
       "      <td>https://well.ca</td>\n",
       "      <td>Maybelline Color Show Nail Lacquer Veils colle...</td>\n",
       "      <td>4.0</td>\n",
       "      <td>None</td>\n",
       "      <td>nail_polish</td>\n",
       "      <td>[]</td>\n",
       "      <td>2016-10-01T18:26:50.448Z</td>\n",
       "      <td>2017-12-23T20:51:08.413Z</td>\n",
       "      <td>http://makeup-api.herokuapp.com/api/v1/product...</td>\n",
       "      <td>//s3.amazonaws.com/donovanbailey/products/api_...</td>\n",
       "      <td>[{'hex_value': '#394674', 'colour_name': 'Amet...</td>\n",
       "    </tr>\n",
       "    <tr>\n",
       "      <th>2</th>\n",
       "      <td>133</td>\n",
       "      <td>maybelline</td>\n",
       "      <td>Maybelline Color Show Nail Lacquer</td>\n",
       "      <td>4.49</td>\n",
       "      <td>None</td>\n",
       "      <td>None</td>\n",
       "      <td>https://d3t32hsnjxo7q6.cloudfront.net/i/a05aa3...</td>\n",
       "      <td>https://well.ca/products/maybelline-color-show...</td>\n",
       "      <td>https://well.ca</td>\n",
       "      <td>High fashion meets high-art. With Maybelline C...</td>\n",
       "      <td>3.3</td>\n",
       "      <td>None</td>\n",
       "      <td>nail_polish</td>\n",
       "      <td>[]</td>\n",
       "      <td>2016-10-01T18:26:31.673Z</td>\n",
       "      <td>2017-12-23T20:51:05.961Z</td>\n",
       "      <td>http://makeup-api.herokuapp.com/api/v1/product...</td>\n",
       "      <td>//s3.amazonaws.com/donovanbailey/products/api_...</td>\n",
       "      <td>[{'hex_value': '#037679', 'colour_name': 'Drop...</td>\n",
       "    </tr>\n",
       "  </tbody>\n",
       "</table>\n",
       "</div>"
      ],
      "text/plain": [
       "    id       brand                                        name price  \\\n",
       "0  146  maybelline  Maybelline Color Show Nail Lacquer Jewels   4.49   \n",
       "1  145  maybelline   Maybelline Color Show Nail Lacquer Veils   4.49   \n",
       "2  133  maybelline         Maybelline Color Show Nail Lacquer   4.49   \n",
       "\n",
       "  price_sign currency                                         image_link  \\\n",
       "0       None     None  https://d3t32hsnjxo7q6.cloudfront.net/i/f6239c...   \n",
       "1       None     None  https://d3t32hsnjxo7q6.cloudfront.net/i/64cbcf...   \n",
       "2       None     None  https://d3t32hsnjxo7q6.cloudfront.net/i/a05aa3...   \n",
       "\n",
       "                                        product_link     website_link  \\\n",
       "0  https://well.ca/products/maybelline-color-show...  https://well.ca   \n",
       "1  https://well.ca/products/maybelline-color-show...  https://well.ca   \n",
       "2  https://well.ca/products/maybelline-color-show...  https://well.ca   \n",
       "\n",
       "                                         description  rating category  \\\n",
       "0  Maybelline Color Show Nail Lacquer Jewels coll...     3.0     None   \n",
       "1  Maybelline Color Show Nail Lacquer Veils colle...     4.0     None   \n",
       "2  High fashion meets high-art. With Maybelline C...     3.3     None   \n",
       "\n",
       "  product_type tag_list                created_at                updated_at  \\\n",
       "0  nail_polish       []  2016-10-01T18:26:51.778Z  2017-12-23T20:51:08.631Z   \n",
       "1  nail_polish       []  2016-10-01T18:26:50.448Z  2017-12-23T20:51:08.413Z   \n",
       "2  nail_polish       []  2016-10-01T18:26:31.673Z  2017-12-23T20:51:05.961Z   \n",
       "\n",
       "                                     product_api_url  \\\n",
       "0  http://makeup-api.herokuapp.com/api/v1/product...   \n",
       "1  http://makeup-api.herokuapp.com/api/v1/product...   \n",
       "2  http://makeup-api.herokuapp.com/api/v1/product...   \n",
       "\n",
       "                                  api_featured_image  \\\n",
       "0  //s3.amazonaws.com/donovanbailey/products/api_...   \n",
       "1  //s3.amazonaws.com/donovanbailey/products/api_...   \n",
       "2  //s3.amazonaws.com/donovanbailey/products/api_...   \n",
       "\n",
       "                                      product_colors  \n",
       "0                                                 []  \n",
       "1  [{'hex_value': '#394674', 'colour_name': 'Amet...  \n",
       "2  [{'hex_value': '#037679', 'colour_name': 'Drop...  "
      ]
     },
     "execution_count": 26,
     "metadata": {},
     "output_type": "execute_result"
    }
   ],
   "source": [
    "#print head of dataframe\n",
    "df.head()"
   ]
  },
  {
   "cell_type": "code",
   "execution_count": 27,
   "metadata": {},
   "outputs": [],
   "source": [
    "#create a get request for all products that are taged Hypoallergenic, and No Talc. Filter with query params\n",
    "response2 =requests.get(\"http://makeup-api.herokuapp.com/api/v1/products.json?product_tags=Hypoallergenic&product_tags=No Talc\")"
   ]
  },
  {
   "cell_type": "code",
   "execution_count": 28,
   "metadata": {},
   "outputs": [
    {
     "data": {
      "text/plain": [
       "b'[{\"id\":1036,\"brand\":\"rejuva minerals\",\"name\":\"Multi Purpose Powder - Blush \\\\u0026 Eye\",\"price\":\"0.0\",\"price_sign\":\"$\",\"currency\":\"USD\",\"image_link\":\"https://www.purpicks.com/wp-content/uploads/2018/06/Rejuva-Minerals-Multi-Purpose-Powder-Blush-_-Eye-1.jpg\",\"product_link\":\"https://www.purpicks.com/product/rejuva-minerals-multi-purpose-powder-blush-eye/\",\"website_link\":\"https://purpicks.com/\",\"description\":\"Our Multi Purpose Pressed Powders may be used for blush or eye shadow. Blended with antioxidants from Certified Organic Fruits, Berries \\\\u0026amp; Botanicals*. Made without any gluten containing ingredients. Mica free Pink Parfait and Papaya will offer a natural, ultra sheer semi-matte finish. The petals from beautiful crushed red roses that are found in Pink Parfait, are valued for their natural color and delightful aroma that they provide! Acai Berry will offer a natural, ultra sheer satin finish (mica added). VEGAN. Image one is Pink Parfait. Image two is Papaya, and image three is Acai Berry. Model in image four is wearing Papaya. Model in image five is wearing Acai Berry. To see a demonstration of Papaya, click on the video and fast forward to 3:44. Enjoy! This product is EWG VERIFIED\\\\u0026#x2122; and rated \\'CLEAN\\'in the Think Dirty app! BPA and Phthalate free packaging. Plastic parts of compacts are recyclable. *Tiny flecks of fruit and botanical particles may be visible in powder. Pink Parfait and Papaya are Titanium Dioxide and Mica free. Net Weight: 2.8 gm.\",\"rating\":null,\"category\":\"\",\"product_type\":\"eyeshadow\",\"tag_list\":[\"purpicks\",\"EWG Verified\",\"Hypoallergenic\",\"No Talc\"],\"created_at\":\"2018-06-30T19:19:31.988Z\",\"updated_at\":\"2018-09-02T22:52:06.678Z\",\"product_api_url\":\"http://makeup-api.herokuapp.com/api/v1/products/1036.json\",\"api_featured_image\":\"//s3.amazonaws.com/donovanbailey/products/api_featured_images/000/001/036/original/open-uri20180630-4-ign3hh?1530390384\",\"product_colors\":[{\"hex_value\":\"#E1BFC0\",\"colour_name\":\"Pink Parfait\"},{\"hex_value\":\"#D7A7A3\",\"colour_name\":\"Papaya\"},{\"hex_value\":\"#E6C3CB\",\"colour_name\":\"Acai Berry\"}]},{\"id\":1035,\"brand\":\"rejuva minerals\",\"name\":\"Multi Purpose Powder - Blush \\\\u0026 Eye\",\"price\":\"0.0\",\"price_sign\":\"$\",\"currency\":\"USD\",\"image_link\":\"https://www.purpicks.com/wp-content/uploads/2018/06/Rejuva-Minerals-Multi-Purpose-Powder-Blush-_-Eye-1.jpg\",\"product_link\":\"https://www.purpicks.com/product/rejuva-minerals-multi-purpose-powder-blush-eye/\",\"website_link\":\"https://purpicks.com/\",\"description\":\"Our Multi Purpose Pressed Powders may be used for blush or eye shadow. Blended with antioxidants from Certified Organic Fruits, Berries \\\\u0026amp; Botanicals*. Made without any gluten containing ingredients. Mica free Pink Parfait and Papaya will offer a natural, ultra sheer semi-matte finish. The petals from beautiful crushed red roses that are found in Pink Parfait, are valued for their natural color and delightful aroma that they provide! Acai Berry will offer a natural, ultra sheer satin finish (mica added). VEGAN. Image one is Pink Parfait. Image two is Papaya, and image three is Acai Berry. Model in image four is wearing Papaya. Model in image five is wearing Acai Berry. To see a demonstration of Papaya, click on the video and fast forward to 3:44. Enjoy! This product is EWG VERIFIED\\\\u0026#x2122; and rated \\'CLEAN\\'in the Think Dirty app! BPA and Phthalate free packaging. Plastic parts of compacts are recyclable. *Tiny flecks of fruit and botanical particles may be visible in powder. Pink Parfait and Papaya are Titanium Dioxide and Mica free. Net Weight: 2.8 gm.\",\"rating\":null,\"category\":\"powder\",\"product_type\":\"blush\",\"tag_list\":[\"purpicks\",\"EWG Verified\",\"Hypoallergenic\",\"No Talc\"],\"created_at\":\"2018-06-30T19:19:31.909Z\",\"updated_at\":\"2018-09-02T22:52:06.855Z\",\"product_api_url\":\"http://makeup-api.herokuapp.com/api/v1/products/1035.json\",\"api_featured_image\":\"//s3.amazonaws.com/donovanbailey/products/api_featured_images/000/001/035/original/open-uri20180630-4-n6wb0y?1530390383\",\"product_colors\":[{\"hex_value\":\"#E1BFC0\",\"colour_name\":\"Pink Parfait\"},{\"hex_value\":\"#D7A7A3\",\"colour_name\":\"Papaya\"},{\"hex_value\":\"#E6C3CB\",\"colour_name\":\"Acai Berry\"}]},{\"id\":1033,\"brand\":\"rejuva minerals\",\"name\":\"Pressed Powder Foundation\",\"price\":\"0.0\",\"price_sign\":\"$\",\"currency\":\"USD\",\"image_link\":\"https://www.purpicks.com/wp-content/uploads/2018/06/Rejuva-Minerals-Multi-Purpose-Powder-Eye-Shadow-Face-1.jpg\",\"product_link\":\"https://www.purpicks.com/product/rejuva-minerals-multi-purpose-powder-eye-shadow-face/\",\"website_link\":\"https://purpicks.com/\",\"description\":\"Coconut Cream - Warm Undertones (yellow) Light Shade. May also be used as a highlighting shade! About our pressed foundations:\\\\u003cul\\\\u003e\\\\u003cli\\\\u003eProvides a silky smooth, natural \\'semi-matte\\' finish\\\\u003c/li\\\\u003e\\\\u003cli\\\\u003eAll skin types\\\\u003c/li\\\\u003e\\\\u003cli\\\\u003eWill not dry out skin (apply light moisturizer underneath for best results)\\\\u003c/li\\\\u003e\\\\u003cli\\\\u003eResists caking and settling in lines and pores\\\\u003c/li\\\\u003e\\\\u003cli\\\\u003eLayers to provide a light-medium (buildable) coverage\\\\u003c/li\\\\u003e\\\\u003cli\\\\u003eEco-friendly, biodegradable compact\\\\u003c/li\\\\u003e\\\\u003cli\\\\u003eColored with minerals and enhanced with organic fruits and botanicals\\\\u003c/li\\\\u003e\\\\u003cli\\\\u003eInfused with conditioning organic jojoba oil\\\\u003c/li\\\\u003e\\\\u003cli\\\\u003eFormulated without common skin irritants.\\\\u003c/li\\\\u003e\\\\u003c/ul\\\\u003e\",\"rating\":null,\"category\":\"powder\",\"product_type\":\"foundation\",\"tag_list\":[\"purpicks\",\"EWG Verified\",\"Hypoallergenic\",\"No Talc\"],\"created_at\":\"2018-06-30T19:19:31.736Z\",\"updated_at\":\"2018-09-02T22:52:06.652Z\",\"product_api_url\":\"http://makeup-api.herokuapp.com/api/v1/products/1033.json\",\"api_featured_image\":\"//s3.amazonaws.com/donovanbailey/products/api_featured_images/000/001/033/original/open-uri20180630-4-1mibdm?1530390382\",\"product_colors\":[{\"hex_value\":\"#FBE9CD\",\"colour_name\":\"Coconut Cream\"},{\"hex_value\":\"#E6B588\",\"colour_name\":\"Dune\"},{\"hex_value\":\"#EBC8A0\",\"colour_name\":\"Glow\"},{\"hex_value\":\"#F8E3D5\",\"colour_name\":\"Nude\"},{\"hex_value\":\"#D8B39B\",\"colour_name\":\"Radiance\"},{\"hex_value\":\"#E7CDBA\",\"colour_name\":\"Sand\"},{\"hex_value\":\"#F1C4A8\",\"colour_name\":\"Sea Shell\"},{\"hex_value\":\"#D1B594\",\"colour_name\":\"Taffy\"},{\"hex_value\":\"#9C7248\",\"colour_name\":\"Bahama Mama\"},{\"hex_value\":\"#DDA983\",\"colour_name\":\"St Tropez\"}]},{\"id\":1010,\"brand\":\"coastal classic creation\",\"name\":\"Conch Lipstick\",\"price\":\"0.0\",\"price_sign\":\"$\",\"currency\":\"USD\",\"image_link\":\"https://www.purpicks.com/wp-content/uploads/2018/06/coastal-classic-creations-conch-lipstick.png\",\"product_link\":\"https://www.purpicks.com/product/coastal-classic-creations-conch-lipstick/\",\"website_link\":\"https://purpicks.com/\",\"description\":\"Coastal Classic Creations Conch Lipstick is a flattering, stylish, rich winterberry color. This lipstick is paraben-free and vegan and contains sunflower oil which is rich in Vitamin E and which may protect against damage from the sun. To boost the product\\'s effectiveness, we add sesame seed oil which contains Vitamins E, D, and B complex to provide moisture and neutralize free radicals. Companions well with Boysenberry Lip Crayon.\",\"rating\":null,\"category\":\"lipstick\",\"product_type\":\"lipstick\",\"tag_list\":[\"purpicks\",\"EWG Verified\",\"Hypoallergenic\",\"No Talc\"],\"created_at\":\"2018-06-30T19:19:30.184Z\",\"updated_at\":\"2018-09-02T22:52:06.571Z\",\"product_api_url\":\"http://makeup-api.herokuapp.com/api/v1/products/1010.json\",\"api_featured_image\":\"//s3.amazonaws.com/donovanbailey/products/api_featured_images/000/001/010/original/open-uri20180630-4-dywvay?1530390364\",\"product_colors\":[{\"hex_value\":\"#822A42\",\"colour_name\":\"Raspberry\"},{\"hex_value\":\"#8D394F\",\"colour_name\":\"Conch\"},{\"hex_value\":\"#9F4353\",\"colour_name\":\"Crushed Rose\"},{\"hex_value\":\"#A15F55\",\"colour_name\":\"Tender Toffee\"},{\"hex_value\":\"#F09178\",\"colour_name\":\"Deja Vu\"},{\"hex_value\":\"#B83037\",\"colour_name\":\"Sun Dial\"},{\"hex_value\":\"#AD4C46\",\"colour_name\":\"Terra Gold\"},{\"hex_value\":\"#A96B67\",\"colour_name\":\"Cowry\"},{\"hex_value\":\"#B73849\",\"colour_name\":\"Tender\"},{\"hex_value\":\"#D06C89\",\"colour_name\":\"Nautilus\"},{\"hex_value\":\"#C49082\",\"colour_name\":\"Extremely Nude\"},{\"hex_value\":\"#B78592\",\"colour_name\":\"Ginger Snap\"},{\"hex_value\":\"#DD786A\",\"colour_name\":\"Coral Shell\"},{\"hex_value\":\"#E5A4BF\",\"colour_name\":\"Twilight\"},{\"hex_value\":\"#954D44\",\"colour_name\":\"Sand Dollar\"}]},{\"id\":1009,\"brand\":\"c\\'est moi\",\"name\":\"Reflect Lip Gloss\",\"price\":\"0.0\",\"price_sign\":\"$\",\"currency\":\"USD\",\"image_link\":\"https://www.purpicks.com/wp-content/uploads/2018/04/cest-moi-reflect-lip-gloss-1.png\",\"product_link\":\"https://www.purpicks.com/product/reflect-lip-gloss/\",\"website_link\":\"https://purpicks.com/\",\"description\":\"These essential lip gloss shades are enriched with a blend of natural and organic oils to deliver the perfect amount of sheer color and shine to lips. Enriched with a blend of natural and organic oils, this essential gloss delivers a wash of sheer color and promises shine\\xe2\\x80\\x94not stickiness. Made for Young Delicate Skin Types NO \\xe2\\x80\\x93 Talc, Fragrance, Parabens, Phthalates, Sulfates, Mineral oil or Propylene Glycol Dermatologist Tested Clinically Tested on Sensitive Skin, Hypoallergenic, Made with Natural \\\\u0026 Organic Ingredients\",\"rating\":null,\"category\":\"lip_gloss\",\"product_type\":\"lipstick\",\"tag_list\":[\"purpicks\",\"EWG Verified\",\"Hypoallergenic\",\"No Talc\"],\"created_at\":\"2018-06-30T19:19:30.116Z\",\"updated_at\":\"2018-09-02T22:52:06.562Z\",\"product_api_url\":\"http://makeup-api.herokuapp.com/api/v1/products/1009.json\",\"api_featured_image\":\"//s3.amazonaws.com/donovanbailey/products/api_featured_images/000/001/009/original/open-uri20180630-4-xznfso?1530390363\",\"product_colors\":[{\"hex_value\":\"#DF585A\",\"colour_name\":\"Rise\"},{\"hex_value\":\"#E4CFCE\",\"colour_name\":\"Opulence\"},{\"hex_value\":\"#D6474B\",\"colour_name\":\"Bliss\"}]},{\"id\":1008,\"brand\":\"c\\'est moi\",\"name\":\"Muse Mascara\",\"price\":\"0.0\",\"price_sign\":\"$\",\"currency\":\"USD\",\"image_link\":\"https://www.purpicks.com/wp-content/uploads/2018/04/cest-moi-muse-mascara.png\",\"product_link\":\"https://www.purpicks.com/product/muse-mascara/\",\"website_link\":\"https://purpicks.com/\",\"description\":\"Define, lengthen and nourish lashes with organic shea butter, grapeseed and jojoba oils. Lashes are coated gently and evenly without clumping, transferring or flaking. Long, lush lashes begin with this luxe mascara that is formulated with organic shea butter and oils of grape and jojoba seed to help nourish and condition as it lengthens and defines. Velvety and smooth, it coats lashes gently and evenly without clumping, transferring, or flaking. Made for Young Delicate Skin Types. NO \\xe2\\x80\\x93 Talc, Fragrance, Parabens, Phthalates, Sulfates, Mineral oil or Propylene Glycol\",\"rating\":null,\"category\":\"\",\"product_type\":\"mascara\",\"tag_list\":[\"purpicks\",\"EWG Verified\",\"Hypoallergenic\",\"No Talc\"],\"created_at\":\"2018-06-30T19:19:30.056Z\",\"updated_at\":\"2018-09-02T22:52:06.553Z\",\"product_api_url\":\"http://makeup-api.herokuapp.com/api/v1/products/1008.json\",\"api_featured_image\":\"//s3.amazonaws.com/donovanbailey/products/api_featured_images/000/001/008/original/open-uri20180630-4-bk6ign?1530390362\",\"product_colors\":[{\"hex_value\":\"#000000\",\"colour_name\":\"Black\"}]},{\"id\":1007,\"brand\":\"c\\'est moi\",\"name\":\"Luminary Lip Crayon\",\"price\":\"0.0\",\"price_sign\":\"$\",\"currency\":\"USD\",\"image_link\":\"https://www.purpicks.com/wp-content/uploads/2018/04/cest-moi-luminary-lip-crayon.png\",\"product_link\":\"https://www.purpicks.com/product/luminary-lip-crayon/\",\"website_link\":\"https://purpicks.com/\",\"description\":\"These nourishing and creamy lip crayons come in 6 perfectly pigmented shades that go from subtle to statement. This easy-to-use lip crayon delivers velvety application and perfectly pigmented color, plus a nourishing formula with a creamy, consistent texture designed to make your lips appear soft and smooth. Apply sparingly for a subtle look, or generously to make a statement\\xe2\\x80\\x94either way, your lips will feel as beautiful as they look! Made for Young Delicate Skin Types NO \\xe2\\x80\\x93 Talc, Fragrance, Parabens, Phthalates, Sulfates, Mineral oil or Propylene Glycol Dermatologist Tested Clinically Tested On Sensitive Skin Hypoallergenic\",\"rating\":null,\"category\":\"pencil\",\"product_type\":\"lip_liner\",\"tag_list\":[\"purpicks\",\"EWG Verified\",\"Hypoallergenic\",\"No Talc\"],\"created_at\":\"2018-06-30T19:19:29.975Z\",\"updated_at\":\"2018-09-02T22:52:06.545Z\",\"product_api_url\":\"http://makeup-api.herokuapp.com/api/v1/products/1007.json\",\"api_featured_image\":\"//s3.amazonaws.com/donovanbailey/products/api_featured_images/000/001/007/original/open-uri20180630-4-1m2hvd7?1530390361\",\"product_colors\":[{\"hex_value\":\"#B89093\",\"colour_name\":\"Fresh\"},{\"hex_value\":\"#CB7579\",\"colour_name\":\"True\"},{\"hex_value\":\"#EB5D92\",\"colour_name\":\"Fierce\"},{\"hex_value\":\"#E74857\",\"colour_name\":\"Vivid\"},{\"hex_value\":\"#CC5257\",\"colour_name\":\"Brave\"},{\"hex_value\":\"#65373E\",\"colour_name\":\"Courage\"}]},{\"id\":1006,\"brand\":\"c\\'est moi\",\"name\":\"Fearless Eyeliner\",\"price\":\"0.0\",\"price_sign\":\"$\",\"currency\":\"USD\",\"image_link\":\"https://www.purpicks.com/wp-content/uploads/2018/04/cest-moi-fearless-eyeliner-pencil.png\",\"product_link\":\"https://www.purpicks.com/product/fearless-eyeliner/\",\"website_link\":\"https://purpicks.com/\",\"description\":\"Make eyes pop with this velvety smooth eyeliner that glides on effortlessly and precisely. Make your eyes pop with this sleek, easy-to-use eyeliner. Formulated with both jojoba seed oil and shea butter, its velvety smooth formula glides on effortlessly and precisely. To sharpen, place inside sharpener and turn the pencil gently to create a working tip. Made for Young Delicate Skin Types NO \\xe2\\x80\\x93 Talc, Fragrance, Parabens, Phthalates, Sulfates, Mineral oil or Propylene Glycol  Dermatologist Tested Clinically Tested on Sensitive Skin Hypoallergenic Made with Natural Ingredients\",\"rating\":null,\"category\":\"pencil\",\"product_type\":\"eyeliner\",\"tag_list\":[\"purpicks\",\"EWG Verified\",\"Hypoallergenic\",\"No Talc\"],\"created_at\":\"2018-06-30T19:19:29.910Z\",\"updated_at\":\"2018-09-02T22:52:06.537Z\",\"product_api_url\":\"http://makeup-api.herokuapp.com/api/v1/products/1006.json\",\"api_featured_image\":\"//s3.amazonaws.com/donovanbailey/products/api_featured_images/000/001/006/original/open-uri20180630-4-u4c1jh?1530390360\",\"product_colors\":[{\"hex_value\":\"#B8A89A\",\"colour_name\":\"Fearless\"}]}]'"
      ]
     },
     "execution_count": 28,
     "metadata": {},
     "output_type": "execute_result"
    }
   ],
   "source": [
    "# show the products that come up in the above request\n",
    "response2.content"
   ]
  },
  {
   "cell_type": "code",
   "execution_count": 29,
   "metadata": {},
   "outputs": [],
   "source": [
    "# create a request for all Eyeshadows that are Palettes and Organic. Use the params argument in your get() function\n",
    "params = {'product_type': 'Eyeshadow',\n",
    "          'product_category':'Palette',\n",
    "         'product_tags':'Organic'}\n",
    "response3 =requests.get(\"http://makeup-api.herokuapp.com/api/v1/products.json\", params = params)"
   ]
  },
  {
   "cell_type": "code",
   "execution_count": 30,
   "metadata": {},
   "outputs": [
    {
     "data": {
      "text/plain": [
       "b'[{\"id\":1016,\"brand\":\"lotus cosmetics usa\",\"name\":\"Eye Shadow Palette Mesmerize\",\"price\":\"0.0\",\"price_sign\":\"$\",\"currency\":\"USD\",\"image_link\":\"http://www.purpicks.com/wp-content/uploads/2018/03/lotus-cosmetics-usa-eye-shadow-palette-mesmerize.png\",\"product_link\":\"https://www.purpicks.com/product/lotus-cosmetics-usa/\",\"website_link\":\"https://purpicks.com/\",\"description\":\"A four-color eyeshadow palette infused with natural minerals and antioxidant rich extracts to help prevent fine lines and wrinkles. Easily blendable shades give you the ability to create effortlessly natural or dramatic looks. Made with natural and organic ingredients.\",\"rating\":null,\"category\":\"palette\",\"product_type\":\"eyeshadow\",\"tag_list\":[\"purpicks\",\"USDA Organic\",\"Organic\"],\"created_at\":\"2018-06-30T19:19:30.618Z\",\"updated_at\":\"2018-09-02T22:52:06.804Z\",\"product_api_url\":\"http://makeup-api.herokuapp.com/api/v1/products/1016.json\",\"api_featured_image\":\"//s3.amazonaws.com/donovanbailey/products/api_featured_images/000/001/016/original/open-uri20180630-4-1mmjptw?1530390369\",\"product_colors\":[{\"hex_value\":\"#FDF5EB\",\"colour_name\":\"Color 1\"},{\"hex_value\":\"#F5CFBC\",\"colour_name\":\"Color 2\"},{\"hex_value\":\"#B57F57\",\"colour_name\":\"Color 3\"},{\"hex_value\":\"#A39796\",\"colour_name\":\"Color 4\"}]},{\"id\":1015,\"brand\":\"lotus cosmetics usa\",\"name\":\"Eye Shadow Palette Deluxe\",\"price\":\"0.0\",\"price_sign\":\"$\",\"currency\":\"USD\",\"image_link\":\"http://www.purpicks.com/wp-content/uploads/2018/03/lotus-cosmetics-usa-eye-shadow-palette-deluxe.png\",\"product_link\":\"https://www.purpicks.com/product/lotus-cosmetics-usa/\",\"website_link\":\"https://purpicks.com/\",\"description\":\"A four-color eyeshadow palette infused with natural minerals and antioxidant rich extracts to help prevent fine lines and wrinkles. Easily blendable shades give you the ability to create effortlessly natural or dramatic looks. Made with natural and organic ingredients.\",\"rating\":null,\"category\":\"palette\",\"product_type\":\"eyeshadow\",\"tag_list\":[\"purpicks\",\"USDA Organic\",\"Organic\"],\"created_at\":\"2018-06-30T19:19:30.555Z\",\"updated_at\":\"2018-09-02T22:52:06.788Z\",\"product_api_url\":\"http://makeup-api.herokuapp.com/api/v1/products/1015.json\",\"api_featured_image\":\"//s3.amazonaws.com/donovanbailey/products/api_featured_images/000/001/015/original/open-uri20180630-4-egfs2g?1530390369\",\"product_colors\":[{\"hex_value\":\"#F4DACA\",\"colour_name\":\"Color 1\"},{\"hex_value\":\"#C89281\",\"colour_name\":\"Color 2\"},{\"hex_value\":\"#4F7386\",\"colour_name\":\"Color 3\"},{\"hex_value\":\"#9D9484\",\"colour_name\":\"Color 4\"}]},{\"id\":1014,\"brand\":\"lotus cosmetics usa\",\"name\":\"Eye Shadow Palette Smokey\",\"price\":\"0.0\",\"price_sign\":\"$\",\"currency\":\"USD\",\"image_link\":\"http://www.purpicks.com/wp-content/uploads/2018/03/lotus-cosmetics-usa-eye-shadow-palette-smokey.png\",\"product_link\":\"https://www.purpicks.com/product/lotus-cosmetics-usa/\",\"website_link\":\"https://purpicks.com/\",\"description\":\"A four-color eyeshadow palette infused with natural minerals and antioxidant rich extracts to help prevent fine lines and wrinkles. Easily blendable shades give you the ability to create effortlessly natural or dramatic looks. Made with natural and organic ingredients.\",\"rating\":null,\"category\":\"palette\",\"product_type\":\"eyeshadow\",\"tag_list\":[\"purpicks\",\"USDA Organic\",\"Organic\"],\"created_at\":\"2018-06-30T19:19:30.490Z\",\"updated_at\":\"2018-09-02T22:52:06.773Z\",\"product_api_url\":\"http://makeup-api.herokuapp.com/api/v1/products/1014.json\",\"api_featured_image\":\"//s3.amazonaws.com/donovanbailey/products/api_featured_images/000/001/014/original/open-uri20180630-4-1y604g6?1530390368\",\"product_colors\":[{\"hex_value\":\"#7F946E\",\"colour_name\":\"Color 1\"},{\"hex_value\":\"#C8B38A\",\"colour_name\":\"Color 2\"},{\"hex_value\":\"#668D9F\",\"colour_name\":\"Color 3\"},{\"hex_value\":\"#36312C\",\"colour_name\":\"Color 4\"}]},{\"id\":1013,\"brand\":\"lotus cosmetics usa\",\"name\":\"Eye Shadow Palette Seduction\",\"price\":\"0.0\",\"price_sign\":\"$\",\"currency\":\"USD\",\"image_link\":\"http://www.purpicks.com/wp-content/uploads/2018/03/lotus-cosmetics-usa-eye-shadow-palette-seduction.png\",\"product_link\":\"https://www.purpicks.com/product/lotus-cosmetics-usa/\",\"website_link\":\"https://purpicks.com/\",\"description\":\"A four-color eyeshadow palette infused with natural minerals and antioxidant rich extracts to help prevent fine lines and wrinkles. Easily blendable shades give you the ability to create effortlessly natural or dramatic looks. Made with natural and organic ingredients.\",\"rating\":null,\"category\":\"palette\",\"product_type\":\"eyeshadow\",\"tag_list\":[\"purpicks\",\"USDA Organic\",\"Organic\"],\"created_at\":\"2018-06-30T19:19:30.422Z\",\"updated_at\":\"2018-09-02T22:52:06.762Z\",\"product_api_url\":\"http://makeup-api.herokuapp.com/api/v1/products/1013.json\",\"api_featured_image\":\"//s3.amazonaws.com/donovanbailey/products/api_featured_images/000/001/013/original/open-uri20180630-4-1x4t7kg?1530390367\",\"product_colors\":[{\"hex_value\":\"#EBBC9D\",\"colour_name\":\"Color 1\"},{\"hex_value\":\"#EFB1B0\",\"colour_name\":\"Color 2\"},{\"hex_value\":\"#5E3A31\",\"colour_name\":\"Color 3\"},{\"hex_value\":\"#72504A\",\"colour_name\":\"Color 4\"}]},{\"id\":1012,\"brand\":\"lotus cosmetics usa\",\"name\":\"Eye Shadow Palette Cocoa\",\"price\":\"0.0\",\"price_sign\":\"$\",\"currency\":\"USD\",\"image_link\":\"https://www.purpicks.com/wp-content/uploads/2018/03/lotus-cosmetics-usa-eye-shadow-palette-cocoa.png\",\"product_link\":\"https://www.purpicks.com/product/lotus-cosmetics-usa/\",\"website_link\":\"https://purpicks.com/\",\"description\":\"A four-color eyeshadow palette infused with natural minerals and antioxidant rich extracts to help prevent fine lines and wrinkles. Easily blendable shades give you the ability to create effortlessly natural or dramatic looks. Made with natural and organic ingredients.\",\"rating\":null,\"category\":\"palette\",\"product_type\":\"eyeshadow\",\"tag_list\":[\"purpicks\",\"USDA Organic\",\"Organic\"],\"created_at\":\"2018-06-30T19:19:30.347Z\",\"updated_at\":\"2018-09-02T22:52:06.753Z\",\"product_api_url\":\"http://makeup-api.herokuapp.com/api/v1/products/1012.json\",\"api_featured_image\":\"//s3.amazonaws.com/donovanbailey/products/api_featured_images/000/001/012/original/open-uri20180630-4-1rlpw5a?1530390367\",\"product_colors\":[{\"hex_value\":\"#E7CBB7\",\"colour_name\":\"Color 1\"},{\"hex_value\":\"#BE9794\",\"colour_name\":\"Color 2\"},{\"hex_value\":\"#B5816B\",\"colour_name\":\"Color 3\"},{\"hex_value\":\"#9E6D64\",\"colour_name\":\"Color 4\"}]}]'"
      ]
     },
     "execution_count": 30,
     "metadata": {},
     "output_type": "execute_result"
    }
   ],
   "source": [
    "# what brand are the above eyeshadows?\n",
    "response3.content\n"
   ]
  },
  {
   "cell_type": "code",
   "execution_count": 31,
   "metadata": {},
   "outputs": [],
   "source": [
    "json_object = response3.json()\n",
    "j_file = response3.json()"
   ]
  },
  {
   "cell_type": "code",
   "execution_count": 32,
   "metadata": {},
   "outputs": [],
   "source": [
    "m = j_file\n",
    "df = json_normalize(m)"
   ]
  },
  {
   "cell_type": "code",
   "execution_count": 34,
   "metadata": {},
   "outputs": [
    {
     "data": {
      "text/plain": [
       "0    lotus cosmetics usa\n",
       "1    lotus cosmetics usa\n",
       "2    lotus cosmetics usa\n",
       "3    lotus cosmetics usa\n",
       "4    lotus cosmetics usa\n",
       "Name: brand, dtype: object"
      ]
     },
     "execution_count": 34,
     "metadata": {},
     "output_type": "execute_result"
    }
   ],
   "source": [
    "df['brand']"
   ]
  },
  {
   "cell_type": "code",
   "execution_count": 35,
   "metadata": {},
   "outputs": [],
   "source": [
    "# create a request for all lipsticks that are chemical free. Use the params argument in the get() function\n",
    "params = {'product_type': 'Lipstick',\n",
    "          'product_tags':'Chemical free'}\n",
    "response4 =requests.get(\"http://makeup-api.herokuapp.com/api/v1/products.json\", params = params)"
   ]
  },
  {
   "cell_type": "code",
   "execution_count": 37,
   "metadata": {},
   "outputs": [
    {
     "data": {
      "text/plain": [
       "[{'id': 1044,\n",
       "  'brand': 'boosh',\n",
       "  'name': 'Lipstick',\n",
       "  'price': '26.0',\n",
       "  'price_sign': '$',\n",
       "  'currency': 'CAD',\n",
       "  'image_link': 'https://cdn.shopify.com/s/files/1/1016/3243/products/LIPBALM_LID_grande.jpg?v=1496848378',\n",
       "  'product_link': 'https://www.boosh.ca/collections/all',\n",
       "  'website_link': 'https://www.boosh.ca/',\n",
       "  'description': 'All of our products are free from lead and heavy metals, parabens, phthalates, artificial colourants, and synthetic fragrances.  Boosh lipstick glides on smoothly for clean & protective SPF coverage. They are filled with hydrating oils and butters to preserve and enhance your lips natural surface. Organic sweet orange oil gives a light and cheerful scent.',\n",
       "  'rating': None,\n",
       "  'category': 'lipstick',\n",
       "  'product_type': 'lipstick',\n",
       "  'tag_list': ['Chemical Free', 'Organic'],\n",
       "  'created_at': '2018-07-08T17:32:28.088Z',\n",
       "  'updated_at': '2018-09-02T22:52:06.669Z',\n",
       "  'product_api_url': 'http://makeup-api.herokuapp.com/api/v1/products/1044.json',\n",
       "  'api_featured_image': '//s3.amazonaws.com/donovanbailey/products/api_featured_images/000/001/044/original/data?1531071233',\n",
       "  'product_colors': [{'hex_value': '#CB4975', 'colour_name': 'Babs'},\n",
       "   {'hex_value': '#B6636F', 'colour_name': 'Bobbie'},\n",
       "   {'hex_value': '#B37072', 'colour_name': 'Rosie'},\n",
       "   {'hex_value': '#C6727C', 'colour_name': 'Ellie'},\n",
       "   {'hex_value': '#AF2257', 'colour_name': 'Dahlia'},\n",
       "   {'hex_value': '#573F53', 'colour_name': 'Kat'},\n",
       "   {'hex_value': '#875672', 'colour_name': 'Brie'},\n",
       "   {'hex_value': '#BC88A5', 'colour_name': 'Emmy'},\n",
       "   {'hex_value': '#BB8A88', 'colour_name': 'Dusty rose'},\n",
       "   {'hex_value': '#8D5C58', 'colour_name': 'Kylie'},\n",
       "   {'hex_value': '#C86775', 'colour_name': 'Leah'},\n",
       "   {'hex_value': '#F8D7D6', 'colour_name': 'Lip Plumping Balm'},\n",
       "   {'hex_value': '#8F6065', 'colour_name': 'Luna'},\n",
       "   {'hex_value': '#C79289', 'colour_name': 'Nova'},\n",
       "   {'hex_value': '#9D3F47', 'colour_name': 'Ruby'}]},\n",
       " {'id': 1030,\n",
       "  'brand': 'penny lane organics',\n",
       "  'name': 'Lip Gloss',\n",
       "  'price': '0.0',\n",
       "  'price_sign': '$',\n",
       "  'currency': 'USD',\n",
       "  'image_link': 'https://www.purpicks.com/wp-content/uploads/csm/sunset-bronze-pennylaneorganics1.jpg',\n",
       "  'product_link': 'https://www.purpicks.com/product/penny-lane-organics-lip-gloss/',\n",
       "  'website_link': 'https://purpicks.com/',\n",
       "  'description': 'For fuller healthier lips! Long lasting colour! This colour is a good choice for any skin tone. It can be made lighter by wiping some off after application.Please note that our Vitamin E is extracted from non-GMO soy bean oil and therefore is gluten-free.',\n",
       "  'rating': None,\n",
       "  'category': 'lip_gloss',\n",
       "  'product_type': 'lipstick',\n",
       "  'tag_list': ['purpicks',\n",
       "   'CertClean',\n",
       "   'Vegan',\n",
       "   'Chemical Free',\n",
       "   'Gluten Free'],\n",
       "  'created_at': '2018-06-30T19:19:31.534Z',\n",
       "  'updated_at': '2018-09-02T22:52:06.618Z',\n",
       "  'product_api_url': 'http://makeup-api.herokuapp.com/api/v1/products/1030.json',\n",
       "  'api_featured_image': '//s3.amazonaws.com/donovanbailey/products/api_featured_images/000/001/030/original/open-uri20180630-4-ucbwbt?1530390380',\n",
       "  'product_colors': [{'hex_value': '#2F1513', 'colour_name': 'Black Cherry'},\n",
       "   {'hex_value': '#4F1314', 'colour_name': 'Fiery Red'},\n",
       "   {'hex_value': '#6F2633', 'colour_name': 'Pearl Pink'},\n",
       "   {'hex_value': '#B05665', 'colour_name': 'Pink Shimmer'},\n",
       "   {'hex_value': '#783F30', 'colour_name': 'Sunset Bronze'},\n",
       "   {'hex_value': '#511617', 'colour_name': 'Sweet Cherry'},\n",
       "   {'hex_value': '#8E2432', 'colour_name': 'Tropical Fuschia'}]}]"
      ]
     },
     "execution_count": 37,
     "metadata": {},
     "output_type": "execute_result"
    }
   ],
   "source": [
    "#output the json file for above\n",
    "json_object = response4.json()\n",
    "j_file = response4.json()\n",
    "df = json_normalize(j_file)\n",
    "j_file\n"
   ]
  },
  {
   "cell_type": "code",
   "execution_count": 38,
   "metadata": {},
   "outputs": [],
   "source": [
    "# using the json only to read the results, how many products came up in this request?\n",
    "#2"
   ]
  },
  {
   "cell_type": "code",
   "execution_count": 39,
   "metadata": {},
   "outputs": [],
   "source": [
    "# create a request for all products that have less than 4 stars for their rating. Use the params argument in the get() function\n",
    "params = {'rating_less_than': '4'}\n",
    "response5 =requests.get(\"http://makeup-api.herokuapp.com/api/v1/products.json\", params = params)"
   ]
  },
  {
   "cell_type": "code",
   "execution_count": 44,
   "metadata": {},
   "outputs": [
    {
     "data": {
      "text/plain": [
       "maybelline            12\n",
       "physicians formula     8\n",
       "suncoat                4\n",
       "covergirl              4\n",
       "l'oreal                4\n",
       "sante                  3\n",
       "e.l.f.                 3\n",
       "essie                  2\n",
       "moov                   2\n",
       "orly                   2\n",
       "revlon                 2\n",
       "pacifica               2\n",
       "marcelle               2\n",
       "burt's bees            1\n",
       "milani                 1\n",
       "mistura                1\n",
       "zorah                  1\n",
       "nyx                    1\n",
       "mineral fusion         1\n",
       "pure anada             1\n",
       "dalish                 1\n",
       "Name: brand, dtype: int64"
      ]
     },
     "execution_count": 44,
     "metadata": {},
     "output_type": "execute_result"
    }
   ],
   "source": [
    "# what is the most common brand from above?\n",
    "json_object = response5.json()\n",
    "j_file = response5.json()\n",
    "df = json_normalize(j_file)\n",
    "df = json_normalize(j_file)\n",
    "df['brand'].value_counts()\n",
    "#maybelline\n"
   ]
  },
  {
   "cell_type": "code",
   "execution_count": 48,
   "metadata": {},
   "outputs": [],
   "source": [
    "#create a get requst for all Revlon cream foundations. Use the params argument in the get() function\n",
    "params = {'brand': 'Revlon',\n",
    "          'product_type': 'Foundation',\n",
    "         'product_category': 'Cream'}\n",
    "response6 =requests.get(\"http://makeup-api.herokuapp.com/api/v1/products.json\", params = params)"
   ]
  },
  {
   "cell_type": "code",
   "execution_count": 50,
   "metadata": {},
   "outputs": [
    {
     "data": {
      "text/plain": [
       "0    19.99\n",
       "1    19.99\n",
       "2    18.29\n",
       "Name: price, dtype: object"
      ]
     },
     "execution_count": 50,
     "metadata": {},
     "output_type": "execute_result"
    }
   ],
   "source": [
    "# what is the average price for above?\n",
    "json_object = response6.json()\n",
    "j_file = response6.json()\n",
    "df = json_normalize(j_file)\n",
    "df = json_normalize(j_file)\n",
    "df['price']\n"
   ]
  },
  {
   "cell_type": "code",
   "execution_count": 51,
   "metadata": {},
   "outputs": [],
   "source": [
    "# average = 19.42"
   ]
  },
  {
   "cell_type": "code",
   "execution_count": 59,
   "metadata": {},
   "outputs": [
    {
     "data": {
      "text/plain": [
       "404"
      ]
     },
     "execution_count": 59,
     "metadata": {},
     "output_type": "execute_result"
    }
   ],
   "source": [
    "# make a get request with an unknown endpoint. what status code do you get\n",
    "response7=requests.get(\"http://makeup-api.herokuapp.com/a\")\n",
    "response7.status_code"
   ]
  },
  {
   "cell_type": "code",
   "execution_count": null,
   "metadata": {},
   "outputs": [],
   "source": []
  }
 ],
 "metadata": {
  "deepnote": {},
  "deepnote_execution_queue": [],
  "deepnote_notebook_id": "7d981059-7cd3-4205-8c07-4295acf607df",
  "kernelspec": {
   "display_name": "Python 3",
   "language": "python",
   "name": "python3"
  },
  "language_info": {
   "codemirror_mode": {
    "name": "ipython",
    "version": 3
   },
   "file_extension": ".py",
   "mimetype": "text/x-python",
   "name": "python",
   "nbconvert_exporter": "python",
   "pygments_lexer": "ipython3",
   "version": "3.8.3"
  }
 },
 "nbformat": 4,
 "nbformat_minor": 4
}
